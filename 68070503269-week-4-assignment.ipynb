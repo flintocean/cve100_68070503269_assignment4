{
 "cells": [
  {
   "cell_type": "code",
   "execution_count": null,
   "id": "11d5aac9",
   "metadata": {},
   "outputs": [
    {
     "ename": "SyntaxError",
     "evalue": "invalid syntax. Maybe you meant '==' or ':=' instead of '='? (3651835258.py, line 7)",
     "output_type": "error",
     "traceback": [
      "\u001b[1;36m  Cell \u001b[1;32mIn[6], line 7\u001b[1;36m\u001b[0m\n\u001b[1;33m    if n = 5 ==> expected output\u001b[0m\n\u001b[1;37m       ^\u001b[0m\n\u001b[1;31mSyntaxError\u001b[0m\u001b[1;31m:\u001b[0m invalid syntax. Maybe you meant '==' or ':=' instead of '='?\n"
     ]
    }
   ],
   "source": [
    "# Even and Odd\n",
    "# iterate for loop from number 1 to n: \n",
    "# if the number is even, print \"[number] is even\" \n",
    "# ortherwise, print \"[number] is odd\":\n",
    "\n",
    "\n",
    "if n = 5 ==> expected output\n",
    "    0 is Even.\n",
    "    1 is odd.\n",
    "    2 is even.\n",
    "    3 is odd.\n",
    "    4 is even. \n",
    "    5 is odd.\n",
    "\n"
   ]
  },
  {
   "cell_type": "code",
   "execution_count": 27,
   "id": "d464913a",
   "metadata": {},
   "outputs": [
    {
     "name": "stdout",
     "output_type": "stream",
     "text": [
      "512626 is even\n"
     ]
    }
   ],
   "source": [
    "num=int(input(\"ENTER A NUMBER: \"))\n",
    "if (num % 2) == 0:\n",
    "    print(\"{0} is even\".format(num))\n",
    "else:\n",
    "    print(\"{0} is odd\".format(num))"
   ]
  },
  {
   "cell_type": "code",
   "execution_count": null,
   "id": "012e2a53",
   "metadata": {},
   "outputs": [],
   "source": [
    "division \n",
    "- define number n = 100\n",
    "- use a loop from 1 to 10 (the value of looping variable is 1 to 10)\n",
    "- if the result of quotient (number/i) is greater than 5 => print (\"the result is large\")\n",
    "- if the result of quotient (number/i) is exactly equal to 6 ==> skip the loop with continue \n",
    "- ortherwise print the actual quotient ==> print (\"quotient=\", quotient)\n"
   ]
  },
  {
   "cell_type": "code",
   "execution_count": 39,
   "id": "b8282520",
   "metadata": {},
   "outputs": [
    {
     "name": "stdout",
     "output_type": "stream",
     "text": [
      "login successful\n"
     ]
    }
   ],
   "source": [
    "\n",
    "# if username in credential dictioanry\n",
    "#     check whether username and password are equal\n",
    "#     if useername and password matchs\n",
    "#         print (login succesful)\n",
    "# else \n",
    "#     print (user not found)\n",
    "credential = {'user1': 'abc123', 'admin': 'adminpass', 'guest': 'guest123'}\n",
    "username = input(\"enter username:\")\n",
    "password = input(\"password: \")\n",
    "\n",
    "if username in credential:\n",
    "    if credential[username] == password:\n",
    "        print (\"login successful\")\n",
    "    else:\n",
    "        print (\"incorrect password\")\n",
    "else:\n",
    "    print (\"user not found\")"
   ]
  },
  {
   "cell_type": "code",
   "execution_count": 49,
   "id": "b4fa5792",
   "metadata": {},
   "outputs": [
    {
     "name": "stdout",
     "output_type": "stream",
     "text": [
      "- - - - - \n",
      "- - - - - \n",
      "- - - - - \n",
      "- - - - - \n",
      "- - - - - \n"
     ]
    }
   ],
   "source": [
    "stars = 5 \n",
    "rows = 5\n",
    "for i in range(1, rows+1):\n",
    "    for J in range(1, stars+1):\n",
    "        print(\"-\", end=\" \")\n",
    "    print() # Newline"
   ]
  },
  {
   "cell_type": "code",
   "execution_count": 62,
   "id": "72e72886",
   "metadata": {},
   "outputs": [
    {
     "name": "stdout",
     "output_type": "stream",
     "text": [
      "current total: 400.0\n",
      "current total: 600.0\n",
      "limit reached. you cannot buy anymore\n"
     ]
    }
   ],
   "source": [
    "total_bill = 0\n",
    "\n",
    "while True:\n",
    "    price = float(input(\"enter item price\"))\n",
    "    total_bill += price\n",
    "\n",
    "    if total_bill >= 1000:\n",
    "        print(\"limit reached. you cannot buy anymore\")\n",
    "        break\n",
    "    else:\n",
    "        print(f\"current total: {total_bill}\")     "
   ]
  }
 ],
 "metadata": {
  "kernelspec": {
   "display_name": "Python 3",
   "language": "python",
   "name": "python3"
  },
  "language_info": {
   "codemirror_mode": {
    "name": "ipython",
    "version": 3
   },
   "file_extension": ".py",
   "mimetype": "text/x-python",
   "name": "python",
   "nbconvert_exporter": "python",
   "pygments_lexer": "ipython3",
   "version": "3.12.6"
  }
 },
 "nbformat": 4,
 "nbformat_minor": 5
}
